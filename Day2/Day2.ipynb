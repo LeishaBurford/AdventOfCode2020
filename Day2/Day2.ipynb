{
    "metadata": {
        "kernelspec": {
            "name": "python3",
            "display_name": "Python 3.8.2 64-bit",
            "metadata": {
                "interpreter": {
                    "hash": "31f2aee4e71d21fbe5cf8b01ff0e069b9275f58929596ceb00d14d90e3e16cd6"
                }
            }
        },
        "language_info": {
            "name": "python",
            "version": "3.8.2-final",
            "mimetype": "text/x-python",
            "codemirror_mode": {
                "name": "ipython",
                "version": 3
            },
            "pygments_lexer": "ipython3",
            "nbconvert_exporter": "python",
            "file_extension": ".py"
        }
    },
    "nbformat_minor": 2,
    "nbformat": 4,
    "cells": [
        {
            "cell_type": "code",
            "source": [
                "from pathlib import Path\r\n",
                "\r\n",
                "\r\n",
                "class PasswordDetail:\r\n",
                "    def __init__(self, passwordDetails):\r\n",
                "        passwordDetails = passwordDetails.split(' ')\r\n",
                "        self.set_min_max(passwordDetails[0])\r\n",
                "        self.letter = passwordDetails[1].strip(':')\r\n",
                "        self.password = passwordDetails[2]\r\n",
                "\r\n",
                "    def set_min_max(self, minMax):\r\n",
                "        minMaxPair = [int(digit) for digit in minMax.split('-')]\r\n",
                "        self.min = minMaxPair[0]\r\n",
                "        self.max = minMaxPair[1]\r\n",
                "\r\n",
                "    def is_valid(self):\r\n",
                "        return self.password.count(self.letter) >= self.min and self.password.count(self.letter) <= self.max\r\n",
                "        \r\n",
                "    def is_valid_2(self):\r\n",
                "        if self.password[self.min - 1] == self.letter and self.password[self.max - 1] == self.letter:\r\n",
                "            return False\r\n",
                "        return self.password[self.min - 1] == self.letter or self.password[self.max - 1] == self.letter\r\n",
                "    def __str__(self):\r\n",
                "        return f'Password: {self.password} Letter: {self.letter} Count range: {self.min}-{self.max}'\r\n",
                "    def __repr__(self):\r\n",
                "        return str(self)\r\n",
                "\r\n",
                "passwords = [PasswordDetail(password.strip()) for password in open('passwords.txt').readlines()]\r\n",
                "validPasswords = [password for password in passwords if password.is_valid()]\r\n",
                "print(\"Part 1:\", len(validPasswords))\r\n",
                "validPasswordsPart2 = [password for password in passwords if password.is_valid_2()]\r\n",
                "print(\"Part 2:\", len(validPasswordsPart2))\r\n"
            ],
            "metadata": {
                "azdata_cell_guid": "f993974d-ed77-4d04-9c6e-76084837f134",
                "tags": []
            },
            "outputs": [
                {
                    "output_type": "stream",
                    "name": "stdout",
                    "text": [
                        "Part 1: 622\nPart 2: 263\n"
                    ]
                }
            ],
            "execution_count": 1
        },
        {
            "cell_type": "code",
            "execution_count": null,
            "metadata": {},
            "outputs": [],
            "source": []
        }
    ]
}