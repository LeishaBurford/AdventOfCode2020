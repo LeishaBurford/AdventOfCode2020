{
    "metadata": {
        "kernelspec": {
            "name": "python3",
            "display_name": "Python 3"
        },
        "language_info": {
            "name": "python",
            "version": "3.6.6",
            "mimetype": "text/x-python",
            "codemirror_mode": {
                "name": "ipython",
                "version": 3
            },
            "pygments_lexer": "ipython3",
            "nbconvert_exporter": "python",
            "file_extension": ".py"
        }
    },
    "nbformat_minor": 2,
    "nbformat": 4,
    "cells": [
        {
            "cell_type": "code",
            "source": [
                "from pathlib import Path\r\n",
                "\r\n",
                "expenseReport = [int(expense.strip()) for expense in open('expenseReport.txt').readlines()]\r\n",
                "\r\n",
                "pair = [(a, b) for a in expenseReport for b in expenseReport if a + b == 2020 ].pop()\r\n",
                "result1 = pair[0] * pair[1]\r\n",
                "print(\"Part 1:\", result1)\r\n",
                "\r\n",
                "triplet = [(a, b, c) for a in expenseReport for b in expenseReport for c in expenseReport if a + b + c == 2020 ].pop()\r\n",
                "result2 = triplet[0] * triplet[1] * triplet[2]\r\n",
                "\r\n",
                "print(\"Part 2:\", result2)"
            ],
            "metadata": {
                "azdata_cell_guid": "f993974d-ed77-4d04-9c6e-76084837f134",
                "tags": []
            },
            "outputs": [
                {
                    "traceback": [
                        "\u001b[1;31m---------------------------------------------------------------------------\u001b[0m",
                        "\u001b[1;31mFileNotFoundError\u001b[0m                         Traceback (most recent call last)",
                        "\u001b[1;32m<ipython-input-1-3c224e87d533>\u001b[0m in \u001b[0;36m<module>\u001b[1;34m()\u001b[0m\n\u001b[0;32m      1\u001b[0m \u001b[1;32mfrom\u001b[0m \u001b[0mpathlib\u001b[0m \u001b[1;32mimport\u001b[0m \u001b[0mPath\u001b[0m\u001b[1;33m\u001b[0m\u001b[0m\n\u001b[0;32m      2\u001b[0m \u001b[1;33m\u001b[0m\u001b[0m\n\u001b[1;32m----> 3\u001b[1;33m \u001b[0mpasswords\u001b[0m \u001b[1;33m=\u001b[0m \u001b[1;33m[\u001b[0m\u001b[0mpassword\u001b[0m \u001b[1;32mfor\u001b[0m \u001b[0mpassword\u001b[0m \u001b[1;32min\u001b[0m \u001b[0mopen\u001b[0m\u001b[1;33m(\u001b[0m\u001b[1;34m'passwords.txt'\u001b[0m\u001b[1;33m)\u001b[0m\u001b[1;33m.\u001b[0m\u001b[0mreadlines\u001b[0m\u001b[1;33m(\u001b[0m\u001b[1;33m)\u001b[0m\u001b[1;33m]\u001b[0m\u001b[1;33m\u001b[0m\u001b[0m\n\u001b[0m\u001b[0;32m      4\u001b[0m \u001b[0mprint\u001b[0m\u001b[1;33m(\u001b[0m\u001b[0mpasswords\u001b[0m\u001b[1;33m)\u001b[0m\u001b[1;33m\u001b[0m\u001b[0m\n",
                        "\u001b[1;31mFileNotFoundError\u001b[0m: [Errno 2] No such file or directory: 'passwords.txt'"
                    ],
                    "ename": "FileNotFoundError",
                    "evalue": "[Errno 2] No such file or directory: 'passwords.txt'",
                    "output_type": "error"
                }
            ],
            "execution_count": 1
        }
    ]
}