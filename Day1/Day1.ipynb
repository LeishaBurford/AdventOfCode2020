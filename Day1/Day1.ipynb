{
    "metadata": {
        "kernelspec": {
            "name": "python3",
            "display_name": "Python 3"
        },
        "language_info": {
            "name": "python",
            "version": "3.6.6",
            "mimetype": "text/x-python",
            "codemirror_mode": {
                "name": "ipython",
                "version": 3
            },
            "pygments_lexer": "ipython3",
            "nbconvert_exporter": "python",
            "file_extension": ".py"
        }
    },
    "nbformat_minor": 2,
    "nbformat": 4,
    "cells": [
        {
            "cell_type": "code",
            "source": [
                "from pathlib import Path\r\n",
                "\r\n",
                "expenseReport = [int(expense.strip()) for expense in open('expenseReport.txt').readlines()]\r\n",
                "\r\n",
                "pair = [(a, b) for a in expenseReport for b in expenseReport if a + b == 2020 ].pop()\r\n",
                "result1 = pair[0] * pair[1]\n",
                "print(\"Part 1:\", result1)\n",
                "\n",
                "triplet = [(a, b, c) for a in expenseReport for b in expenseReport for c in expenseReport if a + b + c == 2020 ].pop()\n",
                "result2 = triplet[0] * triplet[1] * triplet[2]\n",
                "\r\n",
                "print(\"Part 2:\", result2)"
            ],
            "metadata": {
                "azdata_cell_guid": "f993974d-ed77-4d04-9c6e-76084837f134",
                "tags": []
            },
            "outputs": [
{
    "name": "stdout",
    "text": "Part 1: 538464\n",
    "output_type": "stream"
}, {
    "name": "stdout",
    "text": "Part 2: 278783190\n",
    "output_type": "stream"
}
],
            "execution_count": 23
        }
    ]
}