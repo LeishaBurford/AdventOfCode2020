{
    "metadata": {
        "kernelspec": {
            "name": "python3",
            "display_name": "Python 3",
            "language": "python"
        },
        "language_info": {
            "name": "python",
            "version": "3.8.5-final",
            "mimetype": "text/x-python",
            "codemirror_mode": {
                "name": "ipython",
                "version": 3
            },
            "pygments_lexer": "ipython3",
            "nbconvert_exporter": "python",
            "file_extension": ".py"
        }
    },
    "nbformat_minor": 2,
    "nbformat": 4,
    "cells": [
        {
            "cell_type": "code",
            "source": [
                "from pathlib import Path\n",
                "import numpy \n",
                "\n",
                "# def print_map(map):\n",
                "#     for row in map:\n",
                "#         print(row)\n",
                "\n",
                "class Toboggan:\n",
                "    def __init__(self, map, id):\n",
                "        self.map = map\n",
                "        self.x = 0\n",
                "        self.y = 0\n",
                "        self.maxY = len(map) - 1\n",
                "        self.maxX = len(map[0]) - 1\n",
                "        self.trees = 0\n",
                "        self.is_done = False\n",
                "        self.id = id\n",
                "\n",
                "    def current_position(self):\n",
                "        return (self.x, self.y)\n",
                "    def is_on_tree(self):\n",
                "        return self.map[self.y][self.x] == '#'\n",
                "    def need_more_map(self):\n",
                "        if self.x > len(self.map[self.y]) - 1:\n",
                "            return True\n",
                "        return False\n",
                "    def move(self, rise, run):\n",
                "        if self.y > self.maxY:\n",
                "            self.is_done = True\n",
                "            return None\n",
                "        while self.need_more_map():\n",
                "            self.map[self.y] += self.map[self.y]\n",
                "        if self.is_on_tree():\n",
                "            self.trees += 1\n",
                "        self.x += run\n",
                "        self.y += rise\n",
                "            \n",
                "    def run_hill(self, rise, run):\n",
                "        while(not self.is_done):\n",
                "            self.move(rise, run)\n",
                "    def __str__(self):\n",
                "        return \"\\n\".join([str(x) for x in self.map])  \n",
                "\n",
                "def getTrees(tobaggan, rise, run):\n",
                "    tobaggan.run_hill(rise, run)\n",
                "    return tobaggan.trees\n",
                "def list_product(list):\n",
                "    result = 1\n",
                "    for i in list:\n",
                "        result *= i\n",
                "    return result\n",
                "toboggan_map = [list(row.strip()) for row in open('map.txt').readlines()]\n",
                "toboggan = Toboggan(toboggan_map, 0)\n",
                "toboggan.run_hill(1, 3)\n",
                "print(\"Part 1:\", toboggan.trees)\n",
                "\n",
                "slopes = map( getTrees, [Toboggan(toboggan_map, i) for i in range(0, 5)], (1, 1, 1, 1, 2),( 1, 3, 5, 7, 1))\n",
                "print(\"Part 2:\", list_product(list(slopes)))\n"
            ],
            "metadata": {
                "tags": [],
                "azdata_cell_guid": "394fd36c-83de-4548-b6f5-94926a3f11d1"
            },
            "outputs": [
                {
                    "output_type": "stream",
                    "name": "stdout",
                    "text": [
                        "Part 1: 286\nPart 2: 3638606400\n"
                    ]
                }
            ],
            "execution_count": 1
        }
    ]
}